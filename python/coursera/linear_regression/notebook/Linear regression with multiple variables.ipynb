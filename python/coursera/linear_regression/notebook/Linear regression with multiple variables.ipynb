{
 "cells": [
  {
   "cell_type": "code",
   "execution_count": 44,
   "id": "58b0ef52",
   "metadata": {},
   "outputs": [],
   "source": [
    "#imports\n",
    "import pandas as pd\n",
    "import numpy as np\n",
    "import statistics as stat"
   ]
  },
  {
   "cell_type": "code",
   "execution_count": null,
   "id": "ff6c1eb4",
   "metadata": {},
   "outputs": [],
   "source": []
  },
  {
   "cell_type": "code",
   "execution_count": 98,
   "id": "4b7e7b84",
   "metadata": {},
   "outputs": [],
   "source": [
    "data = np.array(pd.read_csv('..\\data\\ex1data2.txt', header=None))\n",
    "X = data[:, :2]\n",
    "Y = data [:, 2:3]\n",
    "m = len(Y)"
   ]
  },
  {
   "cell_type": "code",
   "execution_count": 105,
   "id": "c9dbedb5",
   "metadata": {},
   "outputs": [],
   "source": [
    "def feature_normalize(X):\n",
    "    data_range = np.array([max(X[:, 0]) - min(X[:, 0]), max(X[:, 1]) - min(X[:, 1])])\n",
    "    average = np.array([stat.mean(X[:, 0]), stat.mean(X[:, 1])])\n",
    "    X = (X - average) / data_range\n",
    "    return X, average, data_range"
   ]
  },
  {
   "cell_type": "code",
   "execution_count": null,
   "id": "84ebb784",
   "metadata": {},
   "outputs": [],
   "source": [
    "# computing the cost J(theta)\n",
    "def compute_cost(X, y, theta):\n",
    "    m = len(y_values)\n",
    "    pred_y = np.dot(X, theta)\n",
    "    diff = np.dot(X, theta) - y\n",
    "    J = np.sum(diff ** 2) / (2 * m)\n",
    "    return J"
   ]
  },
  {
   "cell_type": "code",
   "execution_count": 106,
   "id": "e2b5fd49",
   "metadata": {},
   "outputs": [],
   "source": [
    "X, average, data_range = feature_normalize(X)"
   ]
  },
  {
   "cell_type": "code",
   "execution_count": null,
   "id": "92eb2910",
   "metadata": {},
   "outputs": [],
   "source": []
  }
 ],
 "metadata": {
  "kernelspec": {
   "display_name": "Python 3",
   "language": "python",
   "name": "python3"
  },
  "language_info": {
   "codemirror_mode": {
    "name": "ipython",
    "version": 3
   },
   "file_extension": ".py",
   "mimetype": "text/x-python",
   "name": "python",
   "nbconvert_exporter": "python",
   "pygments_lexer": "ipython3",
   "version": "3.8.5"
  }
 },
 "nbformat": 4,
 "nbformat_minor": 5
}
