{
 "cells": [
  {
   "cell_type": "code",
   "execution_count": 270,
   "id": "38970361",
   "metadata": {},
   "outputs": [],
   "source": [
    "import pandas as pd\n",
    "import numpy as np\n",
    "import matplotlib.pyplot as plt\n",
    "from matplotlib import cm\n",
    "from scipy.optimize import minimize\n",
    "import math"
   ]
  },
  {
   "cell_type": "code",
   "execution_count": 271,
   "id": "f124db16",
   "metadata": {},
   "outputs": [],
   "source": [
    "def plot_data(X, y):\n",
    "\n",
    "    plt.style.use('seaborn-whitegrid')\n",
    "    \n",
    "    positive_state = np.where(np.any(y == 1, axis=1))\n",
    "    negative_state = np.where(np.any(y == 0, axis=1))\n",
    "    \n",
    "    plt.plot(X[positive_state,0], X[positive_state,1], \"o\", color =\"green\" , label = \"Passed\")\n",
    "    plt.plot(X[negative_state,0], X[negative_state,1], \"x\", color =\"red\" , label = \"Failed\")\n",
    "    plt.title(\"Training data\")\n",
    "    plt.xlabel(\"Exam 1 score\")\n",
    "    plt.ylabel(\"Exam 2 score\")\n",
    "    "
   ]
  },
  {
   "cell_type": "code",
   "execution_count": null,
   "id": "7ffb9fc2",
   "metadata": {},
   "outputs": [],
   "source": [
    "def plot_decision_boundary(theta, X, y):\n",
    "    %matplotlib inline\n",
    "    plot_data(X,y)"
   ]
  },
  {
   "cell_type": "code",
   "execution_count": 272,
   "id": "bd7ba0b3",
   "metadata": {},
   "outputs": [],
   "source": [
    "def sigmoid(X):\n",
    "    result = 1/(1 + np.exp(-X))\n",
    "    return result"
   ]
  },
  {
   "cell_type": "code",
   "execution_count": 284,
   "id": "7b198aca",
   "metadata": {},
   "outputs": [],
   "source": [
    "def gradient(theta, X, y):\n",
    "    m, n = X.shape\n",
    "    h = sigmoid(np.dot(X, theta))\n",
    "    diff = h - y\n",
    "    gradient = 1/m * np.dot(X.transpose(), diff)\n",
    "    return gradient"
   ]
  },
  {
   "cell_type": "code",
   "execution_count": 285,
   "id": "fb481cb7",
   "metadata": {},
   "outputs": [],
   "source": [
    "def cost_function(theta, X, y):\n",
    "    epsilon = 1e-5 # ???? if it's exactly 0\n",
    "    m, n = X.shape\n",
    "    h = sigmoid(np.dot(X, theta))\n",
    "    J = 1/m * (- np.dot(y.transpose(), np.log(h + epsilon)) - np.dot((1-y.transpose()),np.log(1-h + epsilon)))\n",
    "    return J"
   ]
  },
  {
   "cell_type": "code",
   "execution_count": 286,
   "id": "9434f809",
   "metadata": {},
   "outputs": [],
   "source": [
    "# get data & prep\n",
    "data = pd.read_csv('..\\data\\ex2data1.txt', header = None)\n",
    "\n",
    "X = np.column_stack((np.ones((m,1)), data.values[:, :2]))\n",
    "y = np.row_stack(data.values[:, 2:3])\n",
    "m, n = X.shape\n",
    "theta = np.zeros((n,1))"
   ]
  },
  {
   "cell_type": "code",
   "execution_count": 294,
   "id": "fb7ada56",
   "metadata": {},
   "outputs": [
    {
     "name": "stdout",
     "output_type": "stream",
     "text": [
      "Optimization terminated successfully.\n",
      "         Current function value: 0.203483\n",
      "         Iterations: 20\n",
      "         Function evaluations: 108\n",
      "         Gradient evaluations: 27\n"
     ]
    }
   ],
   "source": [
    "# optimization of parameters\n",
    "theta = scipy.optimize.fmin_bfgs(f = cost_function, \n",
    "                                  x0 = theta, \n",
    "                                  fprime = gradient, \n",
    "                                  args = (X, y),\n",
    "                                 maxiter = 400)"
   ]
  },
  {
   "cell_type": "code",
   "execution_count": null,
   "id": "2d0ba57b",
   "metadata": {},
   "outputs": [],
   "source": []
  }
 ],
 "metadata": {
  "kernelspec": {
   "display_name": "Python 3",
   "language": "python",
   "name": "python3"
  },
  "language_info": {
   "codemirror_mode": {
    "name": "ipython",
    "version": 3
   },
   "file_extension": ".py",
   "mimetype": "text/x-python",
   "name": "python",
   "nbconvert_exporter": "python",
   "pygments_lexer": "ipython3",
   "version": "3.8.5"
  }
 },
 "nbformat": 4,
 "nbformat_minor": 5
}
